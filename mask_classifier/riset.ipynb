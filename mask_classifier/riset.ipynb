{
 "cells": [
  {
   "cell_type": "code",
   "execution_count": 1,
   "metadata": {},
   "outputs": [],
   "source": [
    "import cv2"
   ]
  },
  {
   "cell_type": "code",
   "execution_count": 3,
   "metadata": {},
   "outputs": [],
   "source": [
    "im = cv2.imread(r\"C:\\Users\\aiforesee\\Google Drive (bimapriambodowr@gmail.com)\\Digital Rise Indonesia\\Object Detection\\Masker Detection - Resnet\\experiements\\data\\with_mask\\49-with-mask.jpg\")"
   ]
  },
  {
   "cell_type": "code",
   "execution_count": 4,
   "metadata": {},
   "outputs": [
    {
     "data": {
      "text/plain": [
       "array([[[194, 183, 186],\n",
       "        [194, 183, 186],\n",
       "        [194, 183, 186],\n",
       "        ...,\n",
       "        [202, 189, 191],\n",
       "        [202, 189, 191],\n",
       "        [202, 189, 191]],\n",
       "\n",
       "       [[194, 183, 186],\n",
       "        [194, 183, 186],\n",
       "        [194, 183, 186],\n",
       "        ...,\n",
       "        [202, 189, 191],\n",
       "        [202, 189, 191],\n",
       "        [202, 189, 191]],\n",
       "\n",
       "       [[194, 183, 186],\n",
       "        [194, 183, 186],\n",
       "        [194, 183, 186],\n",
       "        ...,\n",
       "        [202, 189, 191],\n",
       "        [202, 189, 191],\n",
       "        [202, 189, 191]],\n",
       "\n",
       "       ...,\n",
       "\n",
       "       [[ 44,  45,  43],\n",
       "        [181, 182, 180],\n",
       "        [209, 210, 208],\n",
       "        ...,\n",
       "        [106, 109, 107],\n",
       "        [ 79,  82,  80],\n",
       "        [ 86,  89,  87]],\n",
       "\n",
       "       [[118, 119, 117],\n",
       "        [150, 151, 149],\n",
       "        [104, 105, 103],\n",
       "        ...,\n",
       "        [ 96,  99,  97],\n",
       "        [143, 146, 144],\n",
       "        [114, 117, 115]],\n",
       "\n",
       "       [[ 90,  91,  89],\n",
       "        [207, 208, 206],\n",
       "        [208, 209, 207],\n",
       "        ...,\n",
       "        [ 52,  55,  53],\n",
       "        [134, 137, 135],\n",
       "        [110, 113, 111]]], dtype=uint8)"
      ]
     },
     "execution_count": 4,
     "metadata": {},
     "output_type": "execute_result"
    }
   ],
   "source": [
    "im"
   ]
  },
  {
   "cell_type": "code",
   "execution_count": 12,
   "metadata": {},
   "outputs": [
    {
     "data": {
      "text/plain": [
       "-1"
      ]
     },
     "execution_count": 12,
     "metadata": {},
     "output_type": "execute_result"
    }
   ],
   "source": [
    "# create mask with zeros\n",
    "mask = np.zeros((im.shape), dtype=np.uint8)\n",
    "\n",
    "# define points (as small diamond shape)\n",
    "pts = np.array( [[[25,20],[30,25],[25,30],[20,25]]], dtype=np.int32 )\n",
    "cv2.fillPoly(mask, pts, (255,255,255) )\n",
    "\n",
    "# get color values\n",
    "values = image[np.where((mask == (255,255,255)).all(axis=2))]\n",
    "print(values)\n",
    "\n",
    "# save mask\n",
    "cv2.imwrite('diamond_mask.png', mask)\n",
    "\n",
    "cv2.imshow('image', image)\n",
    "cv2.imshow('mask', mask)\n",
    "cv2.waitKey()"
   ]
  },
  {
   "cell_type": "code",
   "execution_count": null,
   "metadata": {},
   "outputs": [],
   "source": []
  }
 ],
 "metadata": {
  "kernelspec": {
   "display_name": "Python 3",
   "language": "python",
   "name": "python3"
  },
  "language_info": {
   "codemirror_mode": {
    "name": "ipython",
    "version": 3
   },
   "file_extension": ".py",
   "mimetype": "text/x-python",
   "name": "python",
   "nbconvert_exporter": "python",
   "pygments_lexer": "ipython3",
   "version": "3.7.6"
  }
 },
 "nbformat": 4,
 "nbformat_minor": 4
}
